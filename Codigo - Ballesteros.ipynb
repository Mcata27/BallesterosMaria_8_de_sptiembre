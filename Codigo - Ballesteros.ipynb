{
  "nbformat": 4,
  "nbformat_minor": 0,
  "metadata": {
    "colab": {
      "provenance": []
    },
    "kernelspec": {
      "name": "python3",
      "display_name": "Python 3"
    },
    "language_info": {
      "name": "python"
    }
  },
  "cells": [
    {
      "cell_type": "code",
      "execution_count": null,
      "metadata": {
        "id": "MJjBJMkyu2vn"
      },
      "outputs": [],
      "source": []
    },
    {
      "cell_type": "markdown",
      "source": [
        "<center>\n",
        "\n",
        "#**COLEGIO SIGLO XXI - EL SOCORRO**\n",
        "#**PRESENTADO A : ING PAOLA ANDRA QUINTERO**\n",
        "#**PRESENTADO POR : MARÍA CATAINA BALLESTEROS VESGA**\n",
        "#**GRADO DECIMO**\n",
        "#**8 SEPTIEMBRE 2022**\n"
      ],
      "metadata": {
        "id": "8eYEDyHrCl9m"
      }
    },
    {
      "cell_type": "markdown",
      "source": [
        "#**¿Qué es Python?** \n",
        "#Python es un lenguaje de programación de alto nivel que se utiliza para desarrollar aplicaciones de todo tipo. A diferencia de otros lenguajes como Java o .NET, se trata de un lenguaje interpretado, es decir, que no es necesario compilarlo para ejecutar las aplicaciones escritas en Python, sino que se ejecutan directamente por el ordenador utilizando un programa denominado interpretador, por lo que no es necesario “traducirlo” a lenguaje máquina*\n",
        "\n",
        "\n",
        "\n",
        "#**Recuperado de:** https://www.becas-santander.com/es/blog/python-que-es.html"
      ],
      "metadata": {
        "id": "9EoTEIeqcTZr"
      }
    },
    {
      "cell_type": "code",
      "source": [
        "print(\"Esto es una suma\")\n",
        "numero_uno= 12\n",
        "numero_dos= 7\n",
        "resultado = numero_uno + numero_dos\n",
        "print(resultado)"
      ],
      "metadata": {
        "colab": {
          "base_uri": "https://localhost:8080/",
          "height": 0
        },
        "id": "oJ5xsQAfaqmm",
        "outputId": "93f4033a-4522-4c35-814f-c15fb863bfbb"
      },
      "execution_count": 2,
      "outputs": [
        {
          "output_type": "stream",
          "name": "stdout",
          "text": [
            "Esto es una suma\n",
            "19\n"
          ]
        }
      ]
    },
    {
      "cell_type": "code",
      "source": [
        "print(\"Esto es una resta\")\n",
        "numero_uno= 25\n",
        "numero_dos= 10\n",
        "resultado = numero_uno - numero_dos\n",
        "print(resultado)"
      ],
      "metadata": {
        "colab": {
          "base_uri": "https://localhost:8080/",
          "height": 0
        },
        "id": "Z_dADStibUox",
        "outputId": "a8f3080f-7bff-4a17-bec4-e40819fe97be"
      },
      "execution_count": 3,
      "outputs": [
        {
          "output_type": "stream",
          "name": "stdout",
          "text": [
            "Esto es una resta\n",
            "15\n"
          ]
        }
      ]
    },
    {
      "cell_type": "code",
      "source": [
        "print(\"Esto es una Multiplicacion\")\n",
        "numero_uno= 9\n",
        "numero_dos= 2\n",
        "resultado = numero_uno * numero_dos\n",
        "print(resultado)"
      ],
      "metadata": {
        "id": "YoEVgbXabckP"
      },
      "execution_count": null,
      "outputs": []
    },
    {
      "cell_type": "code",
      "source": [
        "print(\"Esto es una División\")\n",
        "numero_uno= 40\n",
        "numero_dos= 6\n",
        "resultado = numero_uno / numero_dos\n",
        "print(resultado)"
      ],
      "metadata": {
        "colab": {
          "base_uri": "https://localhost:8080/",
          "height": 0
        },
        "id": "LDwm9vM-bhFQ",
        "outputId": "c8c49bc4-86f7-42ff-ced6-9c03e13e6847"
      },
      "execution_count": 4,
      "outputs": [
        {
          "output_type": "stream",
          "name": "stdout",
          "text": [
            "Esto es una División\n",
            "6.666666666666667\n"
          ]
        }
      ]
    },
    {
      "cell_type": "markdown",
      "source": [
        "#** EJERCICIOS DE TIPOS DATOS SIMPLES*"
      ],
      "metadata": {
        "id": "eQMZdo0ubtXc"
      }
    },
    {
      "cell_type": "code",
      "source": [
        "peso = input(\"¿Cuál es tu peso en kg? \")\n",
        "estatura = input(\"¿Cuál es tu estatura en metros?\")\n",
        "imc= round(float(peso)/float(estatura)**2,2)\n",
        "print(\"Tu indece de masa muscular es \" + str(imc))"
      ],
      "metadata": {
        "colab": {
          "base_uri": "https://localhost:8080/",
          "height": 0
        },
        "id": "2sdJZRAkcKVP",
        "outputId": "213019c0-5d81-4f30-9051-a22d10d54cae"
      },
      "execution_count": 6,
      "outputs": [
        {
          "output_type": "stream",
          "name": "stdout",
          "text": [
            "¿Cuál es tu peso en kg? 56\n",
            "¿Cuál es tu estatura en metros?160\n",
            "Tu indece de masa muscular es 0.0\n"
          ]
        }
      ]
    },
    {
      "cell_type": "markdown",
      "source": [
        "## Ejercicio 1\n",
        "Ecribir un programa que pregunte el nombre del usuario en la consola y un número entero e imprima por pantalla las líneas distintas el nombre del usuario tantas veces como el número introducido"
      ],
      "metadata": {
        "id": "q2HHxv8sv0wb"
      }
    },
    {
      "cell_type": "code",
      "source": [
        " nombre = input(\"¿Cómo te llamas? \")\n",
        " n = input(\"Introduce un número entero: \")\n",
        " print((nombre + \"\\n\") * int(n))"
      ],
      "metadata": {
        "colab": {
          "base_uri": "https://localhost:8080/"
        },
        "id": "UHYRqoJMzulI",
        "outputId": "9f254c27-4317-4e60-9f13-f280b0f92bb1"
      },
      "execution_count": null,
      "outputs": [
        {
          "output_type": "stream",
          "name": "stdout",
          "text": [
            "¿Cómo te llamas? Cata\n",
            "Introduce un número entero: 55\n",
            "Cata\n",
            "Cata\n",
            "Cata\n",
            "Cata\n",
            "Cata\n",
            "Cata\n",
            "Cata\n",
            "Cata\n",
            "Cata\n",
            "Cata\n",
            "Cata\n",
            "Cata\n",
            "Cata\n",
            "Cata\n",
            "Cata\n",
            "Cata\n",
            "Cata\n",
            "Cata\n",
            "Cata\n",
            "Cata\n",
            "Cata\n",
            "Cata\n",
            "Cata\n",
            "Cata\n",
            "Cata\n",
            "Cata\n",
            "Cata\n",
            "Cata\n",
            "Cata\n",
            "Cata\n",
            "Cata\n",
            "Cata\n",
            "Cata\n",
            "Cata\n",
            "Cata\n",
            "Cata\n",
            "Cata\n",
            "Cata\n",
            "Cata\n",
            "Cata\n",
            "Cata\n",
            "Cata\n",
            "Cata\n",
            "Cata\n",
            "Cata\n",
            "Cata\n",
            "Cata\n",
            "Cata\n",
            "Cata\n",
            "Cata\n",
            "Cata\n",
            "Cata\n",
            "Cata\n",
            "Cata\n",
            "Cata\n",
            "\n"
          ]
        }
      ]
    },
    {
      "cell_type": "markdown",
      "source": [
        "##Ejercicio 2\n",
        "Escribir un programa que pida al usuario su peso (en kg) y estatura (en metros), calcule el índice de masa corporal y lo almacene en una variable, e imprima por pantalla la frase 'Tú indice de masa corporal es <imc>' donde '<imc>' es el índice de masa corporal calculado  redondeado  con 2 decimales"
      ],
      "metadata": {
        "id": "5RuGKWrK0Tph"
      }
    },
    {
      "cell_type": "code",
      "source": [
        "peso = input(\"¿Cúal es tu pesoen Kg? \")\n",
        "estatura = input(\"¿Cúal es tu estatura en metros?\")\n",
        "imc = round(float(peso)/float(estatura)**2,2)\n",
        "print(\"Ti índice de masa corporal es \" + str(imc))"
      ],
      "metadata": {
        "colab": {
          "base_uri": "https://localhost:8080/"
        },
        "id": "JbExldgd1Yex",
        "outputId": "95e776d1-8ef8-4b8a-c7b7-661cfe96a15b"
      },
      "execution_count": null,
      "outputs": [
        {
          "output_type": "stream",
          "name": "stdout",
          "text": [
            "¿Cúal es tu pesoen Kg? 56\n",
            "¿Cúal es tu estatura en metros?160\n",
            "Ti índice de masa corporal es 0.0\n"
          ]
        }
      ]
    },
    {
      "cell_type": "markdown",
      "source": [
        "# **LIBRERÍAS EN PHYTON**"
      ],
      "metadata": {
        "id": "xS3oiAxU3N5V"
      }
    }
  ]
}